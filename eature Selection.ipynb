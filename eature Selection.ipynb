{
 "cells": [
  {
   "cell_type": "code",
   "execution_count": 6,
   "id": "f0d9084d",
   "metadata": {},
   "outputs": [
    {
     "name": "stdout",
     "output_type": "stream",
     "text": [
      "Selected Features (SelectFromModel): 9\n",
      "Feature Importances: [0.03231189 0.0110639  0.06009233 0.05381045 0.00622336 0.00921566\n",
      " 0.08055702 0.14193444 0.00327807 0.00314028 0.01643496 0.00317191\n",
      " 0.01176976 0.02953842 0.00588079 0.00459638 0.0058159  0.00338232\n",
      " 0.00400077 0.00713457 0.07797475 0.01878567 0.07429212 0.11821686\n",
      " 0.01176917 0.01753909 0.04107958 0.12713638 0.01292945 0.00692376]\n"
     ]
    }
   ],
   "source": [
    "from sklearn.datasets import load_breast_cancer\n",
    "from sklearn.model_selection import train_test_split\n",
    "from sklearn.feature_selection import SelectFromModel\n",
    "from sklearn.ensemble import RandomForestClassifier\n",
    "\n",
    "# Load the Breast Cancer dataset\n",
    "data = load_breast_cancer()\n",
    "X, y = data.data, data.target\n",
    "\n",
    "# Split the dataset into training and testing sets\n",
    "X_train, X_test, y_train, y_test = train_test_split(X, y, test_size=0.3, random_state=42)\n",
    "\n",
    "# Initialize and fit the RandomForest model\n",
    "model = RandomForestClassifier(n_estimators=100, random_state=42)\n",
    "model.fit(X_train, y_train)\n",
    "\n",
    "# Select important features, setting prefit=True\n",
    "selector = SelectFromModel(model, threshold=\"mean\", prefit=True)\n",
    "X_train_selected = selector.transform(X_train)\n",
    "X_test_selected = selector.transform(X_test)\n",
    "\n",
    "# Display selected features and feature importances\n",
    "print(\"Selected Features (SelectFromModel):\", X_train_selected.shape[1])\n",
    "print(\"Feature Importances:\", model.feature_importances_)\n"
   ]
  },
  {
   "cell_type": "code",
   "execution_count": 11,
   "id": "4c3a0c46",
   "metadata": {},
   "outputs": [
    {
     "name": "stdout",
     "output_type": "stream",
     "text": [
      "Selected Features (RFE): 10\n",
      "Selected Feature Rankings: [ 1  4 10 17  6  1  1  1  5 14 12  2  1  8 18 19 13 16 15 21  9  3  7 20\n",
      "  1  1  1  1  1 11]\n",
      "Features selected (boolean mask): [ True False False False False  True  True  True False False False False\n",
      "  True False False False False False False False False False False False\n",
      "  True  True  True  True  True False]\n"
     ]
    }
   ],
   "source": [
    "from sklearn.datasets import load_breast_cancer\n",
    "from sklearn.linear_model import LogisticRegression\n",
    "from sklearn.feature_selection import RFE\n",
    "from sklearn.model_selection import train_test_split\n",
    "\n",
    "# Load the Breast Cancer dataset\n",
    "data = load_breast_cancer()\n",
    "X, y = data.data, data.target\n",
    "\n",
    "# Split the dataset into training and testing sets\n",
    "X_train, X_test, y_train, y_test = train_test_split(X, y, test_size=0.3, random_state=42)\n",
    "\n",
    "# Initialize Logistic Regression model\n",
    "model = LogisticRegression(max_iter=4000, random_state=42)\n",
    "\n",
    "# Use RFE with Logistic Regression to select top 10 features\n",
    "rfe = RFE(estimator=model, n_features_to_select=10)\n",
    "X_train_rfe = rfe.fit_transform(X_train, y_train)\n",
    "X_test_rfe = rfe.transform(X_test)  # Apply the same transformation to the test set\n",
    "\n",
    "# Display the selected features and rankings\n",
    "print(\"Selected Features (RFE):\", X_train_rfe.shape[1])\n",
    "print(\"Selected Feature Rankings:\", rfe.ranking_)\n",
    "print(\"Features selected (boolean mask):\", rfe.support_)\n"
   ]
  }
 ],
 "metadata": {
  "kernelspec": {
   "display_name": "Python 3 (ipykernel)",
   "language": "python",
   "name": "python3"
  },
  "language_info": {
   "codemirror_mode": {
    "name": "ipython",
    "version": 3
   },
   "file_extension": ".py",
   "mimetype": "text/x-python",
   "name": "python",
   "nbconvert_exporter": "python",
   "pygments_lexer": "ipython3",
   "version": "3.9.13"
  }
 },
 "nbformat": 4,
 "nbformat_minor": 5
}
